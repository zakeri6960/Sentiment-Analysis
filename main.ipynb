{
 "cells": [
  {
   "cell_type": "code",
   "execution_count": 34,
   "id": "71e03309",
   "metadata": {},
   "outputs": [],
   "source": [
    "import pandas as pd\n",
    "from sklearn.feature_extraction.text import CountVectorizer\n",
    "from sklearn.linear_model import LogisticRegression\n",
    "from sklearn.model_selection import train_test_split\n",
    "from parsivar import Normalizer, Tokenizer\n",
    "from sklearn.preprocessing import LabelEncoder\n",
    "from joblib import dump, load\n",
    "\n",
    "# data = pd.read_csv(\"LDPSA.csv\")\n",
    "data = pd.read_csv(\"Snappfood.csv\")\n",
    "\n",
    "with open('Pesian_Stop_Words_List.txt', 'r', encoding='utf-8') as file:\n",
    "    stop_words = [line.strip() for line in file]\n"
   ]
  },
  {
   "cell_type": "code",
   "execution_count": 6,
   "id": "be41d8ef",
   "metadata": {},
   "outputs": [],
   "source": [
    "def preprocess(texts):\n",
    "    processed_texts = []\n",
    "\n",
    "    normalizer = Normalizer(pinglish_conversion_needed=True)\n",
    "    tokenizer = Tokenizer()\n",
    "\n",
    "    for text in texts:\n",
    "        normalized_text = normalizer.normalize(text)\n",
    "\n",
    "        sentences = tokenizer.tokenize_sentences(normalized_text)\n",
    "\n",
    "        filtered_sentences = []\n",
    "        for sentence in sentences:\n",
    "            words = sentence.split()\n",
    "            filtered_words = [word for word in words if word not in stop_words]\n",
    "            filtered_sentence = ' '.join(filtered_words)\n",
    "            filtered_sentences.append(filtered_sentence)\n",
    "\n",
    "        final_text = ' '.join(filtered_sentences)\n",
    "        processed_texts.append(final_text)\n",
    "\n",
    "    return processed_texts"
   ]
  },
  {
   "cell_type": "code",
   "execution_count": null,
   "id": "9c9789db",
   "metadata": {},
   "outputs": [
    {
     "data": {
      "text/plain": [
       "['vectorizer.joblib']"
      ]
     },
     "execution_count": 36,
     "metadata": {},
     "output_type": "execute_result"
    }
   ],
   "source": [
    "comments = preprocess(data['comment'])\n",
    "\n",
    "vectorizer = CountVectorizer()\n",
    "X = vectorizer.fit_transform(comments)\n",
    "y = data['label_id']\n",
    "X_train, X_test, y_train, y_test = train_test_split(X, y, test_size=0.2, random_state=42)\n",
    "\n",
    "model = LogisticRegression(max_iter=1000) \n",
    "model.fit(X_train, y_train)\n",
    "\n",
    "dump(vectorizer, 'vectorizer.joblib')\n",
    "dump(model, 'model.joblib')"
   ]
  },
  {
   "cell_type": "code",
   "execution_count": 33,
   "id": "abde6236",
   "metadata": {},
   "outputs": [
    {
     "name": "stdout",
     "output_type": "stream",
     "text": [
      "Accuracy: 0.8325\n",
      "Prediction for \"پیشنهاد نمیکنم\": \n",
      " Negative: 0.73 \n",
      " Positive: 0.27\n"
     ]
    }
   ],
   "source": [
    "accuracy = model.score(X_test, y_test)\n",
    "print(f'Accuracy: {accuracy:.4f}')\n",
    "\n",
    "new_text = ['پیشنهاد نمیکنم']  \n",
    "\n",
    "new_text_processed = preprocess(new_text)\n",
    "\n",
    "new_text_vector = vectorizer.transform(new_text_processed)\n",
    "\n",
    "predict = model.predict_proba(new_text_vector)\n",
    "\n",
    "positive = round(predict[0][0], 2)\n",
    "negative = round(predict[0][1], 2)\n",
    "\n",
    "print(f'Prediction for \"{new_text[0]}\": \\n Negative: {negative} \\n Positive: {positive}')"
   ]
  }
 ],
 "metadata": {
  "kernelspec": {
   "display_name": "Python 3",
   "language": "python",
   "name": "python3"
  },
  "language_info": {
   "codemirror_mode": {
    "name": "ipython",
    "version": 3
   },
   "file_extension": ".py",
   "mimetype": "text/x-python",
   "name": "python",
   "nbconvert_exporter": "python",
   "pygments_lexer": "ipython3",
   "version": "3.11.4"
  }
 },
 "nbformat": 4,
 "nbformat_minor": 5
}

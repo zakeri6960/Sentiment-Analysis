{
 "cells": [
  {
   "cell_type": "code",
   "execution_count": 1,
   "id": "2bd42d5a",
   "metadata": {},
   "outputs": [],
   "source": [
    "from parsivar import Normalizer, Tokenizer\n",
    "\n",
    "with open('Pesian_Stop_Words_List.txt', 'r', encoding='utf-8') as file:\n",
    "    stop_words = [line.strip() for line in file]\n",
    "\n",
    "def preprocess(texts):\n",
    "    processed_texts = []\n",
    "\n",
    "    normalizer = Normalizer(pinglish_conversion_needed=True)\n",
    "    tokenizer = Tokenizer()\n",
    "    \n",
    "    for text in texts:\n",
    "        normalized_text = normalizer.normalize(text)\n",
    "        \n",
    "        sentences = tokenizer.tokenize_sentences(normalized_text)\n",
    "        \n",
    "        filtered_sentences = []\n",
    "        for sentence in sentences:\n",
    "            words = sentence.split()  \n",
    "            filtered_words = [word for word in words if word not in stop_words]\n",
    "            filtered_sentence = ' '.join(filtered_words)\n",
    "            filtered_sentences.append(filtered_sentence)\n",
    "        \n",
    "        final_text = ' '.join(filtered_sentences)\n",
    "        \n",
    "        processed_texts.append(final_text)\n",
    "    \n",
    "    return processed_texts\n"
   ]
  }
 ],
 "metadata": {
  "kernelspec": {
   "display_name": "Python 3",
   "language": "python",
   "name": "python3"
  },
  "language_info": {
   "codemirror_mode": {
    "name": "ipython",
    "version": 3
   },
   "file_extension": ".py",
   "mimetype": "text/x-python",
   "name": "python",
   "nbconvert_exporter": "python",
   "pygments_lexer": "ipython3",
   "version": "3.11.2"
  }
 },
 "nbformat": 4,
 "nbformat_minor": 5
}
